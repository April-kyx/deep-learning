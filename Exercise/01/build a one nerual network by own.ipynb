{
 "cells": [
  {
   "cell_type": "code",
   "execution_count": 34,
   "metadata": {},
   "outputs": [],
   "source": [
    "import tensorflow as tf\n",
    "\n",
    "#自己定义一个神经网络隐藏层函数\n",
    "def add_layer(inputs, in_size, out_size, activation_function = None):\n",
    "    Weight = tf.Variable(tf.random_normal([out_size,in_size]))\n",
    "    biase = tf.Variable(tf.zeros([out_size, 1]) + 0.1)\n",
    "    WX_plus_biase = tf.matmul(Weight, inputs) + biase\n",
    "    if activation_function is None:\n",
    "        outputs = WX_plus_biase\n",
    "    else:\n",
    "        outputs = activation_function(WX_plus_biase)\n",
    "    return outputs"
   ]
  },
  {
   "cell_type": "code",
   "execution_count": 35,
   "metadata": {},
   "outputs": [
    {
     "name": "stdout",
     "output_type": "stream",
     "text": [
      "(1, 300)\n",
      "(1, 300)\n",
      "(1, 300)\n"
     ]
    }
   ],
   "source": [
    "import numpy as np\n",
    "\n",
    "#定义好所以的数据形式(定好维度)\n",
    "x_data = np.linspace(-1,1,300)[np.newaxis, :]\n",
    "print(x_data.shape)\n",
    "noise = np.random.normal(0,0.05,x_data.shape)\n",
    "print(noise.shape)\n",
    "y_data = np.square(x_data) - 0.5 + noise\n",
    "print(y_data.shape)"
   ]
  },
  {
   "cell_type": "code",
   "execution_count": 39,
   "metadata": {},
   "outputs": [
    {
     "name": "stdout",
     "output_type": "stream",
     "text": [
      "0.334007\n",
      "0.0105517\n",
      "0.00871557\n",
      "0.00728665\n",
      "0.00584904\n",
      "0.00482803\n",
      "0.00420799\n",
      "0.00382579\n",
      "0.00361473\n",
      "0.00347479\n",
      "0.00336698\n",
      "0.00326967\n",
      "0.00318286\n",
      "0.00310376\n",
      "0.00303771\n",
      "0.00297959\n",
      "0.00293234\n",
      "0.00288623\n",
      "0.00284008\n",
      "0.00279725\n",
      "0.00275875\n",
      "0.0027253\n",
      "0.00269619\n",
      "0.0026699\n",
      "0.00264524\n",
      "0.00262077\n",
      "0.0025973\n",
      "0.00257552\n",
      "0.00255508\n",
      "0.00253837\n",
      "0.00252346\n",
      "0.00251046\n",
      "0.00249967\n",
      "0.00249004\n",
      "0.00248126\n",
      "0.00247246\n",
      "0.00246331\n",
      "0.00245488\n",
      "0.00244805\n",
      "0.00244178\n"
     ]
    }
   ],
   "source": [
    "#构建神经网络\n",
    "x_hot = tf.placeholder(tf.float32, shape=[1,None], name=\"x\")\n",
    "y_hot = tf.placeholder(tf.float32, shape=[1,None], name=\"y\")\n",
    "\n",
    "layer1 = add_layer(x_hot, 1, 10, activation_function = tf.nn.relu)\n",
    "prediction = add_layer(layer1, 10, 1, activation_function = None)\n",
    "\n",
    "loss = tf.reduce_mean(tf.reduce_sum(tf.square(prediction - y_hot), reduction_indices=[0]))\n",
    "train_step = tf.train.GradientDescentOptimizer(0.1).minimize(loss)\n",
    "\n",
    "init = tf.global_variables_initializer()\n",
    "\n",
    "with tf.Session() as sess:\n",
    "    sess.run(init)\n",
    "    for i in range(2000):\n",
    "        sess.run(train_step, feed_dict = {x_hot:x_data, y_hot:y_data})\n",
    "        if i%50 == 0:\n",
    "            print(sess.run(loss, feed_dict={x_hot:x_data, y_hot:y_data}))"
   ]
  },
  {
   "cell_type": "code",
   "execution_count": null,
   "metadata": {},
   "outputs": [],
   "source": []
  }
 ],
 "metadata": {
  "kernelspec": {
   "display_name": "Python [conda env:tfpy3]",
   "language": "python",
   "name": "conda-env-tfpy3-py"
  },
  "language_info": {
   "codemirror_mode": {
    "name": "ipython",
    "version": 3
   },
   "file_extension": ".py",
   "mimetype": "text/x-python",
   "name": "python",
   "nbconvert_exporter": "python",
   "pygments_lexer": "ipython3",
   "version": "3.6.12"
  }
 },
 "nbformat": 4,
 "nbformat_minor": 4
}
